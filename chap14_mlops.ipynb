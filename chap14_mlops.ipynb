{
 "cells": [
  {
   "cell_type": "markdown",
   "metadata": {},
   "source": [
    "# MLOps와 머신러닝 엔지니어링 \n",
    "- 지속적 통합, 지속적 전달, 마이크로 서비스, 코드형 인프라(JaC), 모니터링과 로깅, 커뮤니케이션 및 협업\n",
    "\n",
    "### 머신러닝이란 무엇인가?\n",
    "- 알고리즘을 사용해 데이터로부터 자동으로 학습하는 방법 \n",
    "- supervised, semi-supervised, unsupervised, reinforcement 네 가지 방법 "
   ]
  },
  {
   "cell_type": "markdown",
   "metadata": {},
   "source": [
    "### supervised machine learning\n",
    "- 정답이 이미 알려져 있고 표시가 되어 있음\n",
    "- ex) 몸무게로부터 키를 예측, target = 키, feature = 몸무게 \n",
    "- 데이터 셋 : 18세 청소년들의 키와 몸무게 25,000개의 종합 기록 "
   ]
  },
  {
   "cell_type": "code",
   "execution_count": 1,
   "metadata": {},
   "outputs": [
    {
     "ename": "AttributeError",
     "evalue": "module 'pandas' has no attribute 'read'",
     "output_type": "error",
     "traceback": [
      "\u001b[1;31m---------------------------------------------------------------------------\u001b[0m",
      "\u001b[1;31mAttributeError\u001b[0m                            Traceback (most recent call last)",
      "\u001b[1;32m<ipython-input-1-16b6c5f27013>\u001b[0m in \u001b[0;36m<module>\u001b[1;34m\u001b[0m\n\u001b[0;32m      1\u001b[0m \u001b[1;32mimport\u001b[0m \u001b[0mpandas\u001b[0m \u001b[1;32mas\u001b[0m \u001b[0mpd\u001b[0m\u001b[1;33m\u001b[0m\u001b[1;33m\u001b[0m\u001b[0m\n\u001b[0;32m      2\u001b[0m \u001b[1;33m\u001b[0m\u001b[0m\n\u001b[1;32m----> 3\u001b[1;33m df = pd.read.csv(\n\u001b[0m\u001b[0;32m      4\u001b[0m     \u001b[0;31m\"\u001b[0m\u001b[0mhttp\u001b[0m\u001b[1;33m:\u001b[0m\u001b[1;33m//\u001b[0m\u001b[0mraw\u001b[0m\u001b[1;33m.\u001b[0m\u001b[0mgithubusercontent\u001b[0m\u001b[1;33m.\u001b[0m\u001b[0mcom\u001b[0m\u001b[1;33m/\u001b[0m\u001b[0mnoahgift\u001b[0m\u001b[1;33m/\u001b[0m\u001b[0;31m\\\u001b[0m\u001b[1;33m\u001b[0m\u001b[1;33m\u001b[0m\u001b[0m\n\u001b[0;32m      5\u001b[0m     \u001b[0mregression\u001b[0m\u001b[1;33m-\u001b[0m\u001b[0mconcepts\u001b[0m\u001b[1;33m/\u001b[0m\u001b[0mmaster\u001b[0m\u001b[1;33m/\u001b[0m\u001b[0;31m\\\u001b[0m\u001b[1;33m\u001b[0m\u001b[1;33m\u001b[0m\u001b[0m\n",
      "\u001b[1;31mAttributeError\u001b[0m: module 'pandas' has no attribute 'read'"
     ]
    }
   ],
   "source": [
    "import pandas as pd \n",
    "\n",
    "df = pd.read.csv(\n",
    "    \"http://raw.githubusercontent.com/noahgift/\\\n",
    "    regression-concepts/master/\\\n",
    "    height-weight-25k.csv\")\n",
    "\n",
    "df.head()"
   ]
  },
  {
   "cell_type": "code",
   "execution_count": null,
   "metadata": {},
   "outputs": [],
   "source": []
  }
 ],
 "metadata": {
  "interpreter": {
   "hash": "6816fdc6258537f3fbca301bd54ff31863ccba0c7f3a329ced987f60962f7c4f"
  },
  "kernelspec": {
   "display_name": "Python 3.6.8 ('devops_venv': venv)",
   "language": "python",
   "name": "python3"
  },
  "language_info": {
   "codemirror_mode": {
    "name": "ipython",
    "version": 3
   },
   "file_extension": ".py",
   "mimetype": "text/x-python",
   "name": "python",
   "nbconvert_exporter": "python",
   "pygments_lexer": "ipython3",
   "version": "3.6.8"
  },
  "orig_nbformat": 4
 },
 "nbformat": 4,
 "nbformat_minor": 2
}
