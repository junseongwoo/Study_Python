{
 "cells": [
  {
   "cell_type": "markdown",
   "metadata": {},
   "source": [
    "### 정규 표현식 사용 \n",
    "- 문자열의 패턴 매칭이 필요한 상황은 자주 발생 \n",
    "    - 로그 파일의 식별자 찾기\n",
    "    - 사용자의 입력에서 키워드 체크\n",
    "- 정규 표현식은 문자열을 사용해 검색 패턴을 정의 \n",
    "- 파이썬의 re 패키지는 Perl과 유사한 정규식 연산을 제공\n",
    "- re 모듈은 \\ 를 사용해 매칭에 사용되는 특수 문자 기술 \n",
    "- 이스케이프 시퀀스와의 혼동을 방지하기 위해 정규 표현식을 사용할 때 원시 문자열을 사용하는게 좋음\n",
    "- 원시 문자열이란 첫 번째 따옴표 앞에 'r'이 붙는다."
   ]
  },
  {
   "cell_type": "markdown",
   "metadata": {},
   "source": [
    "### 검색\n",
    "- 텍스트로 된 이메일의 참조 리스트가 있는데 이 리스트에 누가 있는지 알고 싶다고 가정 "
   ]
  },
  {
   "cell_type": "code",
   "execution_count": 6,
   "metadata": {},
   "outputs": [],
   "source": [
    "cc_list = '''\n",
    "Ezra Koenig <ekoenig@vpwk.com>,\n",
    "Rostam Batmanglij <rostam@vpwk.com>,\n",
    "Chris Tomson <comson@vpwk.com>,\n",
    "Bobbi Baio <bbaio@vpwk.com>\n",
    "'''"
   ]
  },
  {
   "cell_type": "code",
   "execution_count": 2,
   "metadata": {},
   "outputs": [
    {
     "data": {
      "text/plain": [
       "True"
      ]
     },
     "execution_count": 2,
     "metadata": {},
     "output_type": "execute_result"
    }
   ],
   "source": [
    "# 리스트에 특정 이름이 있는지 알고 싶다면 in 시퀀스 멤버십 구문을 사용\n",
    "'Rostam' in cc_list"
   ]
  },
  {
   "cell_type": "code",
   "execution_count": 5,
   "metadata": {},
   "outputs": [
    {
     "data": {
      "text/plain": [
       "<_sre.SRE_Match object; span=(34, 40), match='Rostam'>"
      ]
     },
     "execution_count": 5,
     "metadata": {},
     "output_type": "execute_result"
    }
   ],
   "source": [
    "# 일치하는 항목이 있을 경우에만 re.Match 객체를 반환해주는 re.search 함수 사용\n",
    "import re\n",
    "\n",
    "re.search(r'Rostam', cc_list)"
   ]
  },
  {
   "cell_type": "code",
   "execution_count": 7,
   "metadata": {},
   "outputs": [
    {
     "name": "stdout",
     "output_type": "stream",
     "text": [
      "Found Rostam\n"
     ]
    }
   ],
   "source": [
    "# 특정 항목이 존재하는지 확인하기 위한 조건으로 사용할 수 있음 \n",
    "if re.search(r'Rostam', cc_list):\n",
    "    print('Found Rostam')"
   ]
  },
  {
   "cell_type": "markdown",
   "metadata": {},
   "source": [
    "### 캐릭터 세트 \n"
   ]
  },
  {
   "cell_type": "code",
   "execution_count": null,
   "metadata": {},
   "outputs": [],
   "source": []
  }
 ],
 "metadata": {
  "interpreter": {
   "hash": "4459356141ce19d7e64a5c15cd50d19a86f80eba2907a16b31fb063ee3e30237"
  },
  "kernelspec": {
   "display_name": "Python 3.6.8 ('devops_venv': venv)",
   "language": "python",
   "name": "python3"
  },
  "language_info": {
   "codemirror_mode": {
    "name": "ipython",
    "version": 3
   },
   "file_extension": ".py",
   "mimetype": "text/x-python",
   "name": "python",
   "nbconvert_exporter": "python",
   "pygments_lexer": "ipython3",
   "version": "3.6.8"
  },
  "orig_nbformat": 4
 },
 "nbformat": 4,
 "nbformat_minor": 2
}
