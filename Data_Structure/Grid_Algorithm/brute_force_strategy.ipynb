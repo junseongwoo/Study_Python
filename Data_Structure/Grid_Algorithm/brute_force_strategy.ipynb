{
 "cells": [
  {
   "cell_type": "markdown",
   "metadata": {},
   "source": [
    "## 탐욕 알고리즘 활용 사례 - 외판원 문제 해결 \n",
    "- Traveling Salesman Problom \n",
    "- NP-난해 문제 \n",
    "- 입력 : n개의 도시로 된 리스트와 도시 간 거리\n",
    "- 출력 : 모든 도시를 한 번씩 방문하고 출발지로 되돌아오는 가장 짧은 투어 "
   ]
  },
  {
   "cell_type": "markdown",
   "metadata": {},
   "source": [
    "### 무차별 대입 전략 \n",
    "- 동작 원리 \n",
    "1. 가능한 모든 투어 일정을 생성하고 이동 거리를 측정\n",
    "2. 이동 거리가 가장 짧은 투어 선택 "
   ]
  },
  {
   "cell_type": "code",
   "execution_count": null,
   "metadata": {},
   "outputs": [],
   "source": [
    "import random \n",
    "from itertools import permutations\n",
    "alltours = permutations \n",
    "\n",
    "# 두 지점 간의 거리 계산 \n",
    "def distance_points(first, second):\n",
    "    return abs(first - second)\n",
    "\n",
    "# 외판원이 이동해야 할 투어의 이동 거리 계산 \n",
    "def distance_tour(aTour):\n",
    "    return sum(distance_points(aTour[i - 1], aTour[i]) for i in range(len(aTour)))\n",
    "\n",
    "# 복소수로 표현 \n",
    "aCity = complex \n",
    "\n",
    "# 가로 500, 세로 300의 직사각형 안에서 n개의 도시를 무작위로 생성\n",
    "def generate_cities(number_of_cities):\n",
    "    seed = 111\n",
    "    width = 500\n",
    "    height = 300\n",
    "    random.seed((number_of_cities, seed))\n",
    "    return frozenset(aCity(random.randint(1, width), random.randint(1, height)) \\\n",
    "                    for c in range(number_of_cities))\n",
    "\n",
    "\n",
    "\n"
   ]
  }
 ],
 "metadata": {
  "language_info": {
   "name": "python"
  },
  "orig_nbformat": 4
 },
 "nbformat": 4,
 "nbformat_minor": 2
}
