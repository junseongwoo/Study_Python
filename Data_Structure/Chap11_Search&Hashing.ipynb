{
 "cells": [
  {
   "cell_type": "markdown",
   "metadata": {},
   "source": [
    "### 탐색 \n",
    "- 탐색은 주어진 집합에서 특정 키(key)와 일치하는 원소를 찾는 작업을 말함 \n",
    "- 집합의 여러가지 속성(attribute) 중 탐색 기준이 되는 속성을 키 필드(key field)라 함 \n",
    "- 집합이 미리 정렬되있는 경우 탐색 효율이 높아 짐 \n",
    "\n",
    "1. 순차 탐색 (Sequential Search)\n",
    "- 탐색 대상에 아무 조건이 없으며 탐색 키를 찾을 때까지 순차적으로 반복 비교하는 방법  \n",
    "- 원소들이 미리 정렬될 필요는 없지만, 성능에 큰 편차가 발생 \n",
    "- best case의 경우 : 첫 번째 비교에서 탐색 키를 찾는 경우(1) \n",
    "- worst case의 경우 : 마지막 비교에서 탐색 키를 찾는 경우(n)\n",
    "- 평균적으로 n/2번의 횟수가 필요하며 시간 복잡도는 O(n) "
   ]
  },
  {
   "cell_type": "code",
   "execution_count": 2,
   "metadata": {},
   "outputs": [
    {
     "name": "stdout",
     "output_type": "stream",
     "text": [
      "position =  7\n",
      "position =  -1\n"
     ]
    }
   ],
   "source": [
    "# 순차  탐색\n",
    "def seq_search(num, key, n):\n",
    "    for i in range(n):\n",
    "        if (num[i] == key): \n",
    "            return i\n",
    "    return -1\n",
    "\n",
    "num = [12, 5, 6, 19, 21, 3, 7, 81, 42, 15]\n",
    "for item in [81, 90]:\n",
    "    pos = seq_search(num, item, len(num))\n",
    "    print(\"position = \", pos)"
   ]
  },
  {
   "cell_type": "code",
   "execution_count": null,
   "metadata": {},
   "outputs": [],
   "source": []
  },
  {
   "cell_type": "code",
   "execution_count": null,
   "metadata": {},
   "outputs": [],
   "source": []
  }
 ],
 "metadata": {
  "interpreter": {
   "hash": "9a10d58684a97c7ef9814f8d1e63a748a9b86fa1df8aba50abb871f223b28850"
  },
  "kernelspec": {
   "display_name": "Python 3.6.8 ('venv': venv)",
   "language": "python",
   "name": "python3"
  },
  "language_info": {
   "codemirror_mode": {
    "name": "ipython",
    "version": 3
   },
   "file_extension": ".py",
   "mimetype": "text/x-python",
   "name": "python",
   "nbconvert_exporter": "python",
   "pygments_lexer": "ipython3",
   "version": "3.6.8"
  },
  "orig_nbformat": 4
 },
 "nbformat": 4,
 "nbformat_minor": 2
}
