{
 "cells": [
  {
   "cell_type": "markdown",
   "metadata": {},
   "source": [
    "# 그래프 알고리즘\n",
    "- 복잡하고 상호연결성이 높은 자료 구조에서 원하느 정보를 찾을때 효율적임 \n",
    "- vertex와 edge로 구성된 자료 구조 \n",
    "- vertex : 네트워크를 구성하는 개체 , 개수는 |V|\n",
    "- edge : 모든 엣지는 엣지 집합에 속함, 개수는 |E|"
   ]
  },
  {
   "cell_type": "code",
   "execution_count": 2,
   "metadata": {},
   "outputs": [
    {
     "name": "stdout",
     "output_type": "stream",
     "text": [
      "['Mike', 'Nick', 'Amine', 'Wasim']\n",
      "[('Mike', 'Amine')]\n"
     ]
    }
   ],
   "source": [
    "import networkx as nx\n",
    "G = nx.Graph()\n",
    "\n",
    "# 버텍스 추가 \n",
    "G.add_node(\"Mike\")\n",
    "G.add_nodes_from({\"Amine\", \"Wasim\", \"Nick\"})\n",
    "\n",
    "# 두 벅텍스를 잇는 엣지 추가 \n",
    "G.add_edge(\"Mike\", \"Amine\")\n",
    "\n",
    "# 생성한 버텍스와 엣지 목록 출력\n",
    "print(list(G.nodes))\n",
    "print(list(G.edges))"
   ]
  },
  {
   "cell_type": "code",
   "execution_count": 3,
   "metadata": {},
   "outputs": [
    {
     "data": {
      "text/plain": [
       "[('Mike', 'Amine'), ('Amine', 'Imran')]"
      ]
     },
     "execution_count": 3,
     "metadata": {},
     "output_type": "execute_result"
    }
   ],
   "source": [
    "# 버텍스가 아직 네트워크상 존재하지 않더라도 이를 포함하는 엣지를 등록 가능\n",
    "G.add_edge(\"Amine\", \"Imran\")\n",
    "list(G.edges)"
   ]
  },
  {
   "cell_type": "code",
   "execution_count": null,
   "metadata": {},
   "outputs": [],
   "source": []
  }
 ],
 "metadata": {
  "kernelspec": {
   "display_name": "Python 3.6.8 ('venv': venv)",
   "language": "python",
   "name": "python3"
  },
  "language_info": {
   "codemirror_mode": {
    "name": "ipython",
    "version": 3
   },
   "file_extension": ".py",
   "mimetype": "text/x-python",
   "name": "python",
   "nbconvert_exporter": "python",
   "pygments_lexer": "ipython3",
   "version": "3.6.8"
  },
  "orig_nbformat": 4,
  "vscode": {
   "interpreter": {
    "hash": "9a10d58684a97c7ef9814f8d1e63a748a9b86fa1df8aba50abb871f223b28850"
   }
  }
 },
 "nbformat": 4,
 "nbformat_minor": 2
}
